{
  "nbformat": 4,
  "nbformat_minor": 0,
  "metadata": {
    "colab": {
      "provenance": [],
      "include_colab_link": true
    },
    "kernelspec": {
      "name": "python3",
      "display_name": "Python 3"
    }
  },
  "cells": [
    {
      "cell_type": "markdown",
      "metadata": {
        "id": "view-in-github",
        "colab_type": "text"
      },
      "source": [
        "<a href=\"https://colab.research.google.com/github/eduardobcs/Projeto_Airbnb_Porto/blob/main/Airbnb_Porto.ipynb\" target=\"_parent\"><img src=\"https://colab.research.google.com/assets/colab-badge.svg\" alt=\"Open In Colab\"/></a>"
      ]
    },
    {
      "cell_type": "markdown",
      "metadata": {
        "id": "kLI0gJtzDGuQ"
      },
      "source": [
        "<img alt=\"Colaboratory logo\" width=\"15%\" src=\"https://raw.githubusercontent.com/carlosfab/escola-data-science/master/img/novo_logo_bg_claro.png\">\n",
        "\n",
        "#### **Data Science na Prática 3.0**\n",
        "*by [sigmoidal.ai](https://sigmoidal.ai)*\n",
        "\n",
        "---\n",
        "\n",
        "# Análise dos Dados do Airbnb - *Sua Cidade*\n",
        "\n",
        "O [Airbnb](https://www.airbnb.com.br/) já é considerado como sendo a **maior empresa hoteleira da atualidade**. Ah, o detalhe é que ele **não possui nenhum hotel**!\n",
        "\n",
        "Conectando pessoas que querem viajar (e se hospedar) com anfitriões que querem alugar seus imóveis de maneira prática, o Airbnb fornece uma plataforma inovadora para tornar essa hospedagem alternativa.\n",
        "\n",
        "No final de 2018, a Startup fundada 10 anos atrás, já havia **hospedado mais de 300 milhões** de pessoas ao redor de todo o mundo, desafiando as redes hoteleiras tradicionais.\n",
        "\n",
        "Uma das iniciativas do Airbnb é disponibilizar dados do site, para algumas das principais cidades do mundo. Por meio do portal [Inside Airbnb](http://insideairbnb.com/get-the-data.html), é possível baixar uma grande quantidade de dados para desenvolver projetos e soluções de *Data Science*.\n",
        "\n",
        "<center><img alt=\"Analisando Airbnb\" width=\"10%\" src=\"https://www.area360.com.au/wp-content/uploads/2017/09/airbnb-logo.jpg\"></center>\n",
        "\n",
        "**Neste *notebook*, iremos analisar os dados referentes à cidade ________, e ver quais insights podem ser extraídos a partir de dados brutos.**"
      ]
    },
    {
      "cell_type": "markdown",
      "metadata": {
        "id": "0zxQHhIUDF_2"
      },
      "source": [
        "## Obtenção dos Dados\n"
      ]
    },
    {
      "cell_type": "markdown",
      "source": [
        "Os dados foram obtidos através do site [Inside Airbnb](http://insideairbnb.com/get-the-data/).\n",
        "Será utilizado apenas o arquivo \"Summary information and metrics for listings in Porto\"."
      ],
      "metadata": {
        "id": "Btq0izZtR-QW"
      }
    },
    {
      "cell_type": "code",
      "metadata": {
        "id": "Vhp2wMPgJ6zX"
      },
      "source": [
        "# importar os pacotes necessarios\n",
        "import pandas as pd\n",
        "import matplotlib.pyplot as plt\n",
        "import seaborn as sns\n",
        "\n",
        "%matplotlib inline\n"
      ],
      "execution_count": null,
      "outputs": []
    },
    {
      "cell_type": "code",
      "metadata": {
        "id": "tUmoAT8DLQ5T",
        "colab": {
          "base_uri": "https://localhost:8080/",
          "height": 849
        },
        "outputId": "7dfcb271-df75-4ba1-8442-c3c01f84de6f"
      },
      "source": [
        "# importar o arquivo listings.csv para um DataFrame\n",
        "df = pd.read_csv('http://data.insideairbnb.com/portugal/norte/porto/2022-12-16/visualisations/listings.csv',\n",
        "                 index_col='id')\n",
        "df"
      ],
      "execution_count": null,
      "outputs": [
        {
          "output_type": "execute_result",
          "data": {
            "text/plain": [
              "                                                                 name  \\\n",
              "id                                                                      \n",
              "41339                                    Porto city flat near the sea   \n",
              "55111               Fontielas Houses |Floor1 in House with shared ...   \n",
              "73828               Fontielas Houses |Floor0 in House with shared ...   \n",
              "86388                                 A Formosa - a nest made for two   \n",
              "87873                                        Oporto Apartment Triplex   \n",
              "...                                                               ...   \n",
              "779127249810268197                                         Maria Home   \n",
              "779596413035604787                           moradia geminada tipo t2   \n",
              "779712655687956624                                    Infante's Haven   \n",
              "779753944728289358                          Apartamento inteiro Porto   \n",
              "779861992110623008                                   istudioscampanha   \n",
              "\n",
              "                      host_id        host_name   neighbourhood_group  \\\n",
              "id                                                                     \n",
              "41339                  180050            Paula                 PORTO   \n",
              "55111                  259711    Isabel E João               PAREDES   \n",
              "73828                  259711    Isabel E João               PAREDES   \n",
              "86388                  185209             João                 PORTO   \n",
              "87873                  480980            Paula                 PORTO   \n",
              "...                       ...              ...                   ...   \n",
              "779127249810268197   55909094       Maria Jose            MATOSINHOS   \n",
              "779596413035604787  487257931           George  SANTA MARIA DA FEIRA   \n",
              "779712655687956624  409325747  Claudia & Mário                 PORTO   \n",
              "779753944728289358  478851105  Marcelo E Breno                 PORTO   \n",
              "779861992110623008  491094056            Maria                 PORTO   \n",
              "\n",
              "                                                        neighbourhood  \\\n",
              "id                                                                      \n",
              "41339                                    Lordelo do Ouro e Massarelos   \n",
              "55111                                                            Cete   \n",
              "73828                                                            Cete   \n",
              "86388               Cedofeita, Ildefonso, Sé, Miragaia, Nicolau, V...   \n",
              "87873                                                          Bonfim   \n",
              "...                                                               ...   \n",
              "779127249810268197            São Mamede de Infesta e Senhora da Hora   \n",
              "779596413035604787                                           Sanguedo   \n",
              "779712655687956624  Cedofeita, Ildefonso, Sé, Miragaia, Nicolau, V...   \n",
              "779753944728289358                                            Ramalde   \n",
              "779861992110623008                                           Campanhã   \n",
              "\n",
              "                     latitude  longitude        room_type  price  \\\n",
              "id                                                                 \n",
              "41339               41.150100  -8.660350  Entire home/apt     60   \n",
              "55111               41.174810  -8.353620  Entire home/apt     66   \n",
              "73828               41.174490  -8.354260  Entire home/apt     66   \n",
              "86388               41.149180  -8.609220     Private room     33   \n",
              "87873               41.157860  -8.604270  Entire home/apt     64   \n",
              "...                       ...        ...              ...    ...   \n",
              "779127249810268197  41.193460  -8.608010  Entire home/apt     49   \n",
              "779596413035604787  41.016090  -8.516870  Entire home/apt     26   \n",
              "779712655687956624  41.141119  -8.614106  Entire home/apt     74   \n",
              "779753944728289358  41.168040  -8.654280  Entire home/apt    150   \n",
              "779861992110623008  41.150560  -8.585300  Entire home/apt     33   \n",
              "\n",
              "                    minimum_nights  number_of_reviews last_review  \\\n",
              "id                                                                  \n",
              "41339                            2                 20  2022-07-28   \n",
              "55111                            3                 15  2022-08-29   \n",
              "73828                            5                 12  2022-08-22   \n",
              "86388                            2                194  2022-11-27   \n",
              "87873                            3                225  2022-11-24   \n",
              "...                            ...                ...         ...   \n",
              "779127249810268197               4                  0         NaN   \n",
              "779596413035604787              15                  0         NaN   \n",
              "779712655687956624               2                  0         NaN   \n",
              "779753944728289358               5                  0         NaN   \n",
              "779861992110623008               1                  0         NaN   \n",
              "\n",
              "                    reviews_per_month  calculated_host_listings_count  \\\n",
              "id                                                                      \n",
              "41339                            0.17                               1   \n",
              "55111                            0.17                               3   \n",
              "73828                            0.13                               3   \n",
              "86388                            1.37                               8   \n",
              "87873                            1.74                               3   \n",
              "...                               ...                             ...   \n",
              "779127249810268197                NaN                               1   \n",
              "779596413035604787                NaN                               3   \n",
              "779712655687956624                NaN                               5   \n",
              "779753944728289358                NaN                               2   \n",
              "779861992110623008                NaN                               1   \n",
              "\n",
              "                    availability_365  number_of_reviews_ltm    license  \n",
              "id                                                                      \n",
              "41339                             93                      3   29049/AL  \n",
              "55111                              0                      1    7563/AL  \n",
              "73828                              0                      4    7563/AL  \n",
              "86388                            314                     45    6995/AL  \n",
              "87873                            281                     31     634/AL  \n",
              "...                              ...                    ...        ...  \n",
              "779127249810268197               206                      0   42105/AL  \n",
              "779596413035604787               364                      0        NaN  \n",
              "779712655687956624               172                      0   41004/AL  \n",
              "779753944728289358               365                      0     Exempt  \n",
              "779861992110623008               352                      0  678109/AL  \n",
              "\n",
              "[12013 rows x 17 columns]"
            ],
            "text/html": [
              "\n",
              "  <div id=\"df-8d3c34b4-119a-4b68-a2d7-59d28a97fada\">\n",
              "    <div class=\"colab-df-container\">\n",
              "      <div>\n",
              "<style scoped>\n",
              "    .dataframe tbody tr th:only-of-type {\n",
              "        vertical-align: middle;\n",
              "    }\n",
              "\n",
              "    .dataframe tbody tr th {\n",
              "        vertical-align: top;\n",
              "    }\n",
              "\n",
              "    .dataframe thead th {\n",
              "        text-align: right;\n",
              "    }\n",
              "</style>\n",
              "<table border=\"1\" class=\"dataframe\">\n",
              "  <thead>\n",
              "    <tr style=\"text-align: right;\">\n",
              "      <th></th>\n",
              "      <th>name</th>\n",
              "      <th>host_id</th>\n",
              "      <th>host_name</th>\n",
              "      <th>neighbourhood_group</th>\n",
              "      <th>neighbourhood</th>\n",
              "      <th>latitude</th>\n",
              "      <th>longitude</th>\n",
              "      <th>room_type</th>\n",
              "      <th>price</th>\n",
              "      <th>minimum_nights</th>\n",
              "      <th>number_of_reviews</th>\n",
              "      <th>last_review</th>\n",
              "      <th>reviews_per_month</th>\n",
              "      <th>calculated_host_listings_count</th>\n",
              "      <th>availability_365</th>\n",
              "      <th>number_of_reviews_ltm</th>\n",
              "      <th>license</th>\n",
              "    </tr>\n",
              "    <tr>\n",
              "      <th>id</th>\n",
              "      <th></th>\n",
              "      <th></th>\n",
              "      <th></th>\n",
              "      <th></th>\n",
              "      <th></th>\n",
              "      <th></th>\n",
              "      <th></th>\n",
              "      <th></th>\n",
              "      <th></th>\n",
              "      <th></th>\n",
              "      <th></th>\n",
              "      <th></th>\n",
              "      <th></th>\n",
              "      <th></th>\n",
              "      <th></th>\n",
              "      <th></th>\n",
              "      <th></th>\n",
              "    </tr>\n",
              "  </thead>\n",
              "  <tbody>\n",
              "    <tr>\n",
              "      <th>41339</th>\n",
              "      <td>Porto city flat near the sea</td>\n",
              "      <td>180050</td>\n",
              "      <td>Paula</td>\n",
              "      <td>PORTO</td>\n",
              "      <td>Lordelo do Ouro e Massarelos</td>\n",
              "      <td>41.150100</td>\n",
              "      <td>-8.660350</td>\n",
              "      <td>Entire home/apt</td>\n",
              "      <td>60</td>\n",
              "      <td>2</td>\n",
              "      <td>20</td>\n",
              "      <td>2022-07-28</td>\n",
              "      <td>0.17</td>\n",
              "      <td>1</td>\n",
              "      <td>93</td>\n",
              "      <td>3</td>\n",
              "      <td>29049/AL</td>\n",
              "    </tr>\n",
              "    <tr>\n",
              "      <th>55111</th>\n",
              "      <td>Fontielas Houses |Floor1 in House with shared ...</td>\n",
              "      <td>259711</td>\n",
              "      <td>Isabel E João</td>\n",
              "      <td>PAREDES</td>\n",
              "      <td>Cete</td>\n",
              "      <td>41.174810</td>\n",
              "      <td>-8.353620</td>\n",
              "      <td>Entire home/apt</td>\n",
              "      <td>66</td>\n",
              "      <td>3</td>\n",
              "      <td>15</td>\n",
              "      <td>2022-08-29</td>\n",
              "      <td>0.17</td>\n",
              "      <td>3</td>\n",
              "      <td>0</td>\n",
              "      <td>1</td>\n",
              "      <td>7563/AL</td>\n",
              "    </tr>\n",
              "    <tr>\n",
              "      <th>73828</th>\n",
              "      <td>Fontielas Houses |Floor0 in House with shared ...</td>\n",
              "      <td>259711</td>\n",
              "      <td>Isabel E João</td>\n",
              "      <td>PAREDES</td>\n",
              "      <td>Cete</td>\n",
              "      <td>41.174490</td>\n",
              "      <td>-8.354260</td>\n",
              "      <td>Entire home/apt</td>\n",
              "      <td>66</td>\n",
              "      <td>5</td>\n",
              "      <td>12</td>\n",
              "      <td>2022-08-22</td>\n",
              "      <td>0.13</td>\n",
              "      <td>3</td>\n",
              "      <td>0</td>\n",
              "      <td>4</td>\n",
              "      <td>7563/AL</td>\n",
              "    </tr>\n",
              "    <tr>\n",
              "      <th>86388</th>\n",
              "      <td>A Formosa - a nest made for two</td>\n",
              "      <td>185209</td>\n",
              "      <td>João</td>\n",
              "      <td>PORTO</td>\n",
              "      <td>Cedofeita, Ildefonso, Sé, Miragaia, Nicolau, V...</td>\n",
              "      <td>41.149180</td>\n",
              "      <td>-8.609220</td>\n",
              "      <td>Private room</td>\n",
              "      <td>33</td>\n",
              "      <td>2</td>\n",
              "      <td>194</td>\n",
              "      <td>2022-11-27</td>\n",
              "      <td>1.37</td>\n",
              "      <td>8</td>\n",
              "      <td>314</td>\n",
              "      <td>45</td>\n",
              "      <td>6995/AL</td>\n",
              "    </tr>\n",
              "    <tr>\n",
              "      <th>87873</th>\n",
              "      <td>Oporto Apartment Triplex</td>\n",
              "      <td>480980</td>\n",
              "      <td>Paula</td>\n",
              "      <td>PORTO</td>\n",
              "      <td>Bonfim</td>\n",
              "      <td>41.157860</td>\n",
              "      <td>-8.604270</td>\n",
              "      <td>Entire home/apt</td>\n",
              "      <td>64</td>\n",
              "      <td>3</td>\n",
              "      <td>225</td>\n",
              "      <td>2022-11-24</td>\n",
              "      <td>1.74</td>\n",
              "      <td>3</td>\n",
              "      <td>281</td>\n",
              "      <td>31</td>\n",
              "      <td>634/AL</td>\n",
              "    </tr>\n",
              "    <tr>\n",
              "      <th>...</th>\n",
              "      <td>...</td>\n",
              "      <td>...</td>\n",
              "      <td>...</td>\n",
              "      <td>...</td>\n",
              "      <td>...</td>\n",
              "      <td>...</td>\n",
              "      <td>...</td>\n",
              "      <td>...</td>\n",
              "      <td>...</td>\n",
              "      <td>...</td>\n",
              "      <td>...</td>\n",
              "      <td>...</td>\n",
              "      <td>...</td>\n",
              "      <td>...</td>\n",
              "      <td>...</td>\n",
              "      <td>...</td>\n",
              "      <td>...</td>\n",
              "    </tr>\n",
              "    <tr>\n",
              "      <th>779127249810268197</th>\n",
              "      <td>Maria Home</td>\n",
              "      <td>55909094</td>\n",
              "      <td>Maria Jose</td>\n",
              "      <td>MATOSINHOS</td>\n",
              "      <td>São Mamede de Infesta e Senhora da Hora</td>\n",
              "      <td>41.193460</td>\n",
              "      <td>-8.608010</td>\n",
              "      <td>Entire home/apt</td>\n",
              "      <td>49</td>\n",
              "      <td>4</td>\n",
              "      <td>0</td>\n",
              "      <td>NaN</td>\n",
              "      <td>NaN</td>\n",
              "      <td>1</td>\n",
              "      <td>206</td>\n",
              "      <td>0</td>\n",
              "      <td>42105/AL</td>\n",
              "    </tr>\n",
              "    <tr>\n",
              "      <th>779596413035604787</th>\n",
              "      <td>moradia geminada tipo t2</td>\n",
              "      <td>487257931</td>\n",
              "      <td>George</td>\n",
              "      <td>SANTA MARIA DA FEIRA</td>\n",
              "      <td>Sanguedo</td>\n",
              "      <td>41.016090</td>\n",
              "      <td>-8.516870</td>\n",
              "      <td>Entire home/apt</td>\n",
              "      <td>26</td>\n",
              "      <td>15</td>\n",
              "      <td>0</td>\n",
              "      <td>NaN</td>\n",
              "      <td>NaN</td>\n",
              "      <td>3</td>\n",
              "      <td>364</td>\n",
              "      <td>0</td>\n",
              "      <td>NaN</td>\n",
              "    </tr>\n",
              "    <tr>\n",
              "      <th>779712655687956624</th>\n",
              "      <td>Infante's Haven</td>\n",
              "      <td>409325747</td>\n",
              "      <td>Claudia &amp; Mário</td>\n",
              "      <td>PORTO</td>\n",
              "      <td>Cedofeita, Ildefonso, Sé, Miragaia, Nicolau, V...</td>\n",
              "      <td>41.141119</td>\n",
              "      <td>-8.614106</td>\n",
              "      <td>Entire home/apt</td>\n",
              "      <td>74</td>\n",
              "      <td>2</td>\n",
              "      <td>0</td>\n",
              "      <td>NaN</td>\n",
              "      <td>NaN</td>\n",
              "      <td>5</td>\n",
              "      <td>172</td>\n",
              "      <td>0</td>\n",
              "      <td>41004/AL</td>\n",
              "    </tr>\n",
              "    <tr>\n",
              "      <th>779753944728289358</th>\n",
              "      <td>Apartamento inteiro Porto</td>\n",
              "      <td>478851105</td>\n",
              "      <td>Marcelo E Breno</td>\n",
              "      <td>PORTO</td>\n",
              "      <td>Ramalde</td>\n",
              "      <td>41.168040</td>\n",
              "      <td>-8.654280</td>\n",
              "      <td>Entire home/apt</td>\n",
              "      <td>150</td>\n",
              "      <td>5</td>\n",
              "      <td>0</td>\n",
              "      <td>NaN</td>\n",
              "      <td>NaN</td>\n",
              "      <td>2</td>\n",
              "      <td>365</td>\n",
              "      <td>0</td>\n",
              "      <td>Exempt</td>\n",
              "    </tr>\n",
              "    <tr>\n",
              "      <th>779861992110623008</th>\n",
              "      <td>istudioscampanha</td>\n",
              "      <td>491094056</td>\n",
              "      <td>Maria</td>\n",
              "      <td>PORTO</td>\n",
              "      <td>Campanhã</td>\n",
              "      <td>41.150560</td>\n",
              "      <td>-8.585300</td>\n",
              "      <td>Entire home/apt</td>\n",
              "      <td>33</td>\n",
              "      <td>1</td>\n",
              "      <td>0</td>\n",
              "      <td>NaN</td>\n",
              "      <td>NaN</td>\n",
              "      <td>1</td>\n",
              "      <td>352</td>\n",
              "      <td>0</td>\n",
              "      <td>678109/AL</td>\n",
              "    </tr>\n",
              "  </tbody>\n",
              "</table>\n",
              "<p>12013 rows × 17 columns</p>\n",
              "</div>\n",
              "      <button class=\"colab-df-convert\" onclick=\"convertToInteractive('df-8d3c34b4-119a-4b68-a2d7-59d28a97fada')\"\n",
              "              title=\"Convert this dataframe to an interactive table.\"\n",
              "              style=\"display:none;\">\n",
              "        \n",
              "  <svg xmlns=\"http://www.w3.org/2000/svg\" height=\"24px\"viewBox=\"0 0 24 24\"\n",
              "       width=\"24px\">\n",
              "    <path d=\"M0 0h24v24H0V0z\" fill=\"none\"/>\n",
              "    <path d=\"M18.56 5.44l.94 2.06.94-2.06 2.06-.94-2.06-.94-.94-2.06-.94 2.06-2.06.94zm-11 1L8.5 8.5l.94-2.06 2.06-.94-2.06-.94L8.5 2.5l-.94 2.06-2.06.94zm10 10l.94 2.06.94-2.06 2.06-.94-2.06-.94-.94-2.06-.94 2.06-2.06.94z\"/><path d=\"M17.41 7.96l-1.37-1.37c-.4-.4-.92-.59-1.43-.59-.52 0-1.04.2-1.43.59L10.3 9.45l-7.72 7.72c-.78.78-.78 2.05 0 2.83L4 21.41c.39.39.9.59 1.41.59.51 0 1.02-.2 1.41-.59l7.78-7.78 2.81-2.81c.8-.78.8-2.07 0-2.86zM5.41 20L4 18.59l7.72-7.72 1.47 1.35L5.41 20z\"/>\n",
              "  </svg>\n",
              "      </button>\n",
              "      \n",
              "  <style>\n",
              "    .colab-df-container {\n",
              "      display:flex;\n",
              "      flex-wrap:wrap;\n",
              "      gap: 12px;\n",
              "    }\n",
              "\n",
              "    .colab-df-convert {\n",
              "      background-color: #E8F0FE;\n",
              "      border: none;\n",
              "      border-radius: 50%;\n",
              "      cursor: pointer;\n",
              "      display: none;\n",
              "      fill: #1967D2;\n",
              "      height: 32px;\n",
              "      padding: 0 0 0 0;\n",
              "      width: 32px;\n",
              "    }\n",
              "\n",
              "    .colab-df-convert:hover {\n",
              "      background-color: #E2EBFA;\n",
              "      box-shadow: 0px 1px 2px rgba(60, 64, 67, 0.3), 0px 1px 3px 1px rgba(60, 64, 67, 0.15);\n",
              "      fill: #174EA6;\n",
              "    }\n",
              "\n",
              "    [theme=dark] .colab-df-convert {\n",
              "      background-color: #3B4455;\n",
              "      fill: #D2E3FC;\n",
              "    }\n",
              "\n",
              "    [theme=dark] .colab-df-convert:hover {\n",
              "      background-color: #434B5C;\n",
              "      box-shadow: 0px 1px 3px 1px rgba(0, 0, 0, 0.15);\n",
              "      filter: drop-shadow(0px 1px 2px rgba(0, 0, 0, 0.3));\n",
              "      fill: #FFFFFF;\n",
              "    }\n",
              "  </style>\n",
              "\n",
              "      <script>\n",
              "        const buttonEl =\n",
              "          document.querySelector('#df-8d3c34b4-119a-4b68-a2d7-59d28a97fada button.colab-df-convert');\n",
              "        buttonEl.style.display =\n",
              "          google.colab.kernel.accessAllowed ? 'block' : 'none';\n",
              "\n",
              "        async function convertToInteractive(key) {\n",
              "          const element = document.querySelector('#df-8d3c34b4-119a-4b68-a2d7-59d28a97fada');\n",
              "          const dataTable =\n",
              "            await google.colab.kernel.invokeFunction('convertToInteractive',\n",
              "                                                     [key], {});\n",
              "          if (!dataTable) return;\n",
              "\n",
              "          const docLinkHtml = 'Like what you see? Visit the ' +\n",
              "            '<a target=\"_blank\" href=https://colab.research.google.com/notebooks/data_table.ipynb>data table notebook</a>'\n",
              "            + ' to learn more about interactive tables.';\n",
              "          element.innerHTML = '';\n",
              "          dataTable['output_type'] = 'display_data';\n",
              "          await google.colab.output.renderOutput(dataTable, element);\n",
              "          const docLink = document.createElement('div');\n",
              "          docLink.innerHTML = docLinkHtml;\n",
              "          element.appendChild(docLink);\n",
              "        }\n",
              "      </script>\n",
              "    </div>\n",
              "  </div>\n",
              "  "
            ]
          },
          "metadata": {},
          "execution_count": 3
        }
      ]
    },
    {
      "cell_type": "markdown",
      "metadata": {
        "id": "qb5By2nIMS6m"
      },
      "source": [
        "## Análise dos Dados\n"
      ]
    },
    {
      "cell_type": "markdown",
      "metadata": {
        "id": "RYgvuebKNg8-"
      },
      "source": [
        "**Dicionário das variáveis**\n",
        "\n",
        "* **id:** Código de identificação da propriedade\n",
        "* **name:** Nome da propriedade\n",
        "* **host_id:** Identificação do proprietário\n",
        "* **host_name:** Nome do proprietário\n",
        "* **neighbourhood_group:** Região do bairro onde está localizada a propriedade.\n",
        "* **neighbourhood:** Nome do bairro onde está localizada a propriedade.\n",
        "* **latitude:**Coordenada referente a localização da propriedade.\n",
        "* **longitude:**Coordenada referente a localização da propriedade.\n",
        "* **room_type:** Tipo do quarto do estabelecimento.\n",
        "* **price:** Preço da diária oferecido pela estadia na propriedade.\n",
        "* **minimum_nights:** Quantidade mínima de dias para alugar o imóvel.\n",
        "* **number_of_reviews:** Número de avaliações que foram submetidas em relação ao imóvel.\n",
        "* **last_review:** Data em que foi efetuada a última avaliação sob o imóvel.\n",
        "* **reviews_per_month:** Quantidade de avaliações por mês.\n",
        "* **calculated_host_listings_count:** Quantidade de imóveis com o mesmo proprietário.\n",
        "* **availability_365:** Dias disponíveis em 1 ano.\n",
        "* **number_of_reviews_ltm:** Número de avaliações nos últimos 12 meses.\n",
        "* **license:** Número de registro.\n"
      ]
    },
    {
      "cell_type": "code",
      "metadata": {
        "id": "2iS_dae7YQtO",
        "colab": {
          "base_uri": "https://localhost:8080/",
          "height": 614
        },
        "outputId": "beebb3bb-3952-4f8f-9d9d-5a39fd9150e9"
      },
      "source": [
        "# mostrar as 5 primeiras entradas\n",
        "df.head()"
      ],
      "execution_count": null,
      "outputs": [
        {
          "output_type": "execute_result",
          "data": {
            "text/plain": [
              "                                                    name  host_id  \\\n",
              "id                                                                  \n",
              "41339                       Porto city flat near the sea   180050   \n",
              "55111  Fontielas Houses |Floor1 in House with shared ...   259711   \n",
              "73828  Fontielas Houses |Floor0 in House with shared ...   259711   \n",
              "86388                    A Formosa - a nest made for two   185209   \n",
              "87873                           Oporto Apartment Triplex   480980   \n",
              "\n",
              "           host_name neighbourhood_group  \\\n",
              "id                                         \n",
              "41339          Paula               PORTO   \n",
              "55111  Isabel E João             PAREDES   \n",
              "73828  Isabel E João             PAREDES   \n",
              "86388           João               PORTO   \n",
              "87873          Paula               PORTO   \n",
              "\n",
              "                                           neighbourhood  latitude  longitude  \\\n",
              "id                                                                              \n",
              "41339                       Lordelo do Ouro e Massarelos  41.15010   -8.66035   \n",
              "55111                                               Cete  41.17481   -8.35362   \n",
              "73828                                               Cete  41.17449   -8.35426   \n",
              "86388  Cedofeita, Ildefonso, Sé, Miragaia, Nicolau, V...  41.14918   -8.60922   \n",
              "87873                                             Bonfim  41.15786   -8.60427   \n",
              "\n",
              "             room_type  price  minimum_nights  number_of_reviews last_review  \\\n",
              "id                                                                             \n",
              "41339  Entire home/apt     60               2                 20  2022-07-28   \n",
              "55111  Entire home/apt     66               3                 15  2022-08-29   \n",
              "73828  Entire home/apt     66               5                 12  2022-08-22   \n",
              "86388     Private room     33               2                194  2022-11-27   \n",
              "87873  Entire home/apt     64               3                225  2022-11-24   \n",
              "\n",
              "       reviews_per_month  calculated_host_listings_count  availability_365  \\\n",
              "id                                                                           \n",
              "41339               0.17                               1                93   \n",
              "55111               0.17                               3                 0   \n",
              "73828               0.13                               3                 0   \n",
              "86388               1.37                               8               314   \n",
              "87873               1.74                               3               281   \n",
              "\n",
              "       number_of_reviews_ltm   license  \n",
              "id                                      \n",
              "41339                      3  29049/AL  \n",
              "55111                      1   7563/AL  \n",
              "73828                      4   7563/AL  \n",
              "86388                     45   6995/AL  \n",
              "87873                     31    634/AL  "
            ],
            "text/html": [
              "\n",
              "  <div id=\"df-09502f70-addf-479d-a3f7-c90c310ba9f8\">\n",
              "    <div class=\"colab-df-container\">\n",
              "      <div>\n",
              "<style scoped>\n",
              "    .dataframe tbody tr th:only-of-type {\n",
              "        vertical-align: middle;\n",
              "    }\n",
              "\n",
              "    .dataframe tbody tr th {\n",
              "        vertical-align: top;\n",
              "    }\n",
              "\n",
              "    .dataframe thead th {\n",
              "        text-align: right;\n",
              "    }\n",
              "</style>\n",
              "<table border=\"1\" class=\"dataframe\">\n",
              "  <thead>\n",
              "    <tr style=\"text-align: right;\">\n",
              "      <th></th>\n",
              "      <th>name</th>\n",
              "      <th>host_id</th>\n",
              "      <th>host_name</th>\n",
              "      <th>neighbourhood_group</th>\n",
              "      <th>neighbourhood</th>\n",
              "      <th>latitude</th>\n",
              "      <th>longitude</th>\n",
              "      <th>room_type</th>\n",
              "      <th>price</th>\n",
              "      <th>minimum_nights</th>\n",
              "      <th>number_of_reviews</th>\n",
              "      <th>last_review</th>\n",
              "      <th>reviews_per_month</th>\n",
              "      <th>calculated_host_listings_count</th>\n",
              "      <th>availability_365</th>\n",
              "      <th>number_of_reviews_ltm</th>\n",
              "      <th>license</th>\n",
              "    </tr>\n",
              "    <tr>\n",
              "      <th>id</th>\n",
              "      <th></th>\n",
              "      <th></th>\n",
              "      <th></th>\n",
              "      <th></th>\n",
              "      <th></th>\n",
              "      <th></th>\n",
              "      <th></th>\n",
              "      <th></th>\n",
              "      <th></th>\n",
              "      <th></th>\n",
              "      <th></th>\n",
              "      <th></th>\n",
              "      <th></th>\n",
              "      <th></th>\n",
              "      <th></th>\n",
              "      <th></th>\n",
              "      <th></th>\n",
              "    </tr>\n",
              "  </thead>\n",
              "  <tbody>\n",
              "    <tr>\n",
              "      <th>41339</th>\n",
              "      <td>Porto city flat near the sea</td>\n",
              "      <td>180050</td>\n",
              "      <td>Paula</td>\n",
              "      <td>PORTO</td>\n",
              "      <td>Lordelo do Ouro e Massarelos</td>\n",
              "      <td>41.15010</td>\n",
              "      <td>-8.66035</td>\n",
              "      <td>Entire home/apt</td>\n",
              "      <td>60</td>\n",
              "      <td>2</td>\n",
              "      <td>20</td>\n",
              "      <td>2022-07-28</td>\n",
              "      <td>0.17</td>\n",
              "      <td>1</td>\n",
              "      <td>93</td>\n",
              "      <td>3</td>\n",
              "      <td>29049/AL</td>\n",
              "    </tr>\n",
              "    <tr>\n",
              "      <th>55111</th>\n",
              "      <td>Fontielas Houses |Floor1 in House with shared ...</td>\n",
              "      <td>259711</td>\n",
              "      <td>Isabel E João</td>\n",
              "      <td>PAREDES</td>\n",
              "      <td>Cete</td>\n",
              "      <td>41.17481</td>\n",
              "      <td>-8.35362</td>\n",
              "      <td>Entire home/apt</td>\n",
              "      <td>66</td>\n",
              "      <td>3</td>\n",
              "      <td>15</td>\n",
              "      <td>2022-08-29</td>\n",
              "      <td>0.17</td>\n",
              "      <td>3</td>\n",
              "      <td>0</td>\n",
              "      <td>1</td>\n",
              "      <td>7563/AL</td>\n",
              "    </tr>\n",
              "    <tr>\n",
              "      <th>73828</th>\n",
              "      <td>Fontielas Houses |Floor0 in House with shared ...</td>\n",
              "      <td>259711</td>\n",
              "      <td>Isabel E João</td>\n",
              "      <td>PAREDES</td>\n",
              "      <td>Cete</td>\n",
              "      <td>41.17449</td>\n",
              "      <td>-8.35426</td>\n",
              "      <td>Entire home/apt</td>\n",
              "      <td>66</td>\n",
              "      <td>5</td>\n",
              "      <td>12</td>\n",
              "      <td>2022-08-22</td>\n",
              "      <td>0.13</td>\n",
              "      <td>3</td>\n",
              "      <td>0</td>\n",
              "      <td>4</td>\n",
              "      <td>7563/AL</td>\n",
              "    </tr>\n",
              "    <tr>\n",
              "      <th>86388</th>\n",
              "      <td>A Formosa - a nest made for two</td>\n",
              "      <td>185209</td>\n",
              "      <td>João</td>\n",
              "      <td>PORTO</td>\n",
              "      <td>Cedofeita, Ildefonso, Sé, Miragaia, Nicolau, V...</td>\n",
              "      <td>41.14918</td>\n",
              "      <td>-8.60922</td>\n",
              "      <td>Private room</td>\n",
              "      <td>33</td>\n",
              "      <td>2</td>\n",
              "      <td>194</td>\n",
              "      <td>2022-11-27</td>\n",
              "      <td>1.37</td>\n",
              "      <td>8</td>\n",
              "      <td>314</td>\n",
              "      <td>45</td>\n",
              "      <td>6995/AL</td>\n",
              "    </tr>\n",
              "    <tr>\n",
              "      <th>87873</th>\n",
              "      <td>Oporto Apartment Triplex</td>\n",
              "      <td>480980</td>\n",
              "      <td>Paula</td>\n",
              "      <td>PORTO</td>\n",
              "      <td>Bonfim</td>\n",
              "      <td>41.15786</td>\n",
              "      <td>-8.60427</td>\n",
              "      <td>Entire home/apt</td>\n",
              "      <td>64</td>\n",
              "      <td>3</td>\n",
              "      <td>225</td>\n",
              "      <td>2022-11-24</td>\n",
              "      <td>1.74</td>\n",
              "      <td>3</td>\n",
              "      <td>281</td>\n",
              "      <td>31</td>\n",
              "      <td>634/AL</td>\n",
              "    </tr>\n",
              "  </tbody>\n",
              "</table>\n",
              "</div>\n",
              "      <button class=\"colab-df-convert\" onclick=\"convertToInteractive('df-09502f70-addf-479d-a3f7-c90c310ba9f8')\"\n",
              "              title=\"Convert this dataframe to an interactive table.\"\n",
              "              style=\"display:none;\">\n",
              "        \n",
              "  <svg xmlns=\"http://www.w3.org/2000/svg\" height=\"24px\"viewBox=\"0 0 24 24\"\n",
              "       width=\"24px\">\n",
              "    <path d=\"M0 0h24v24H0V0z\" fill=\"none\"/>\n",
              "    <path d=\"M18.56 5.44l.94 2.06.94-2.06 2.06-.94-2.06-.94-.94-2.06-.94 2.06-2.06.94zm-11 1L8.5 8.5l.94-2.06 2.06-.94-2.06-.94L8.5 2.5l-.94 2.06-2.06.94zm10 10l.94 2.06.94-2.06 2.06-.94-2.06-.94-.94-2.06-.94 2.06-2.06.94z\"/><path d=\"M17.41 7.96l-1.37-1.37c-.4-.4-.92-.59-1.43-.59-.52 0-1.04.2-1.43.59L10.3 9.45l-7.72 7.72c-.78.78-.78 2.05 0 2.83L4 21.41c.39.39.9.59 1.41.59.51 0 1.02-.2 1.41-.59l7.78-7.78 2.81-2.81c.8-.78.8-2.07 0-2.86zM5.41 20L4 18.59l7.72-7.72 1.47 1.35L5.41 20z\"/>\n",
              "  </svg>\n",
              "      </button>\n",
              "      \n",
              "  <style>\n",
              "    .colab-df-container {\n",
              "      display:flex;\n",
              "      flex-wrap:wrap;\n",
              "      gap: 12px;\n",
              "    }\n",
              "\n",
              "    .colab-df-convert {\n",
              "      background-color: #E8F0FE;\n",
              "      border: none;\n",
              "      border-radius: 50%;\n",
              "      cursor: pointer;\n",
              "      display: none;\n",
              "      fill: #1967D2;\n",
              "      height: 32px;\n",
              "      padding: 0 0 0 0;\n",
              "      width: 32px;\n",
              "    }\n",
              "\n",
              "    .colab-df-convert:hover {\n",
              "      background-color: #E2EBFA;\n",
              "      box-shadow: 0px 1px 2px rgba(60, 64, 67, 0.3), 0px 1px 3px 1px rgba(60, 64, 67, 0.15);\n",
              "      fill: #174EA6;\n",
              "    }\n",
              "\n",
              "    [theme=dark] .colab-df-convert {\n",
              "      background-color: #3B4455;\n",
              "      fill: #D2E3FC;\n",
              "    }\n",
              "\n",
              "    [theme=dark] .colab-df-convert:hover {\n",
              "      background-color: #434B5C;\n",
              "      box-shadow: 0px 1px 3px 1px rgba(0, 0, 0, 0.15);\n",
              "      filter: drop-shadow(0px 1px 2px rgba(0, 0, 0, 0.3));\n",
              "      fill: #FFFFFF;\n",
              "    }\n",
              "  </style>\n",
              "\n",
              "      <script>\n",
              "        const buttonEl =\n",
              "          document.querySelector('#df-09502f70-addf-479d-a3f7-c90c310ba9f8 button.colab-df-convert');\n",
              "        buttonEl.style.display =\n",
              "          google.colab.kernel.accessAllowed ? 'block' : 'none';\n",
              "\n",
              "        async function convertToInteractive(key) {\n",
              "          const element = document.querySelector('#df-09502f70-addf-479d-a3f7-c90c310ba9f8');\n",
              "          const dataTable =\n",
              "            await google.colab.kernel.invokeFunction('convertToInteractive',\n",
              "                                                     [key], {});\n",
              "          if (!dataTable) return;\n",
              "\n",
              "          const docLinkHtml = 'Like what you see? Visit the ' +\n",
              "            '<a target=\"_blank\" href=https://colab.research.google.com/notebooks/data_table.ipynb>data table notebook</a>'\n",
              "            + ' to learn more about interactive tables.';\n",
              "          element.innerHTML = '';\n",
              "          dataTable['output_type'] = 'display_data';\n",
              "          await google.colab.output.renderOutput(dataTable, element);\n",
              "          const docLink = document.createElement('div');\n",
              "          docLink.innerHTML = docLinkHtml;\n",
              "          element.appendChild(docLink);\n",
              "        }\n",
              "      </script>\n",
              "    </div>\n",
              "  </div>\n",
              "  "
            ]
          },
          "metadata": {},
          "execution_count": 4
        }
      ]
    },
    {
      "cell_type": "markdown",
      "metadata": {
        "id": "6-B_qtEaYEd-"
      },
      "source": [
        "### **Q1. Quantos atributos (variáveis) e quantas entradas o nosso conjunto de dados possui? Quais os tipos das variáveis?**"
      ]
    },
    {
      "cell_type": "code",
      "metadata": {
        "id": "TFRK0tniLV-G",
        "colab": {
          "base_uri": "https://localhost:8080/"
        },
        "outputId": "584ea715-9e9d-4aab-9479-672f023d64a3"
      },
      "source": [
        "# identificar o volume de dados do DataFrame\n",
        "\n",
        "print('Entradas:\\t{}'.format(df.shape[0]))\n",
        "print('Variáveis:\\t{}'.format(df.shape[1]))\n",
        "\n",
        "# verificar as 5 primeiras entradas do dataset\n",
        "df.dtypes"
      ],
      "execution_count": null,
      "outputs": [
        {
          "output_type": "stream",
          "name": "stdout",
          "text": [
            "Entradas:\t12013\n",
            "Variáveis:\t17\n"
          ]
        },
        {
          "output_type": "execute_result",
          "data": {
            "text/plain": [
              "name                               object\n",
              "host_id                             int64\n",
              "host_name                          object\n",
              "neighbourhood_group                object\n",
              "neighbourhood                      object\n",
              "latitude                          float64\n",
              "longitude                         float64\n",
              "room_type                          object\n",
              "price                               int64\n",
              "minimum_nights                      int64\n",
              "number_of_reviews                   int64\n",
              "last_review                        object\n",
              "reviews_per_month                 float64\n",
              "calculated_host_listings_count      int64\n",
              "availability_365                    int64\n",
              "number_of_reviews_ltm               int64\n",
              "license                            object\n",
              "dtype: object"
            ]
          },
          "metadata": {},
          "execution_count": 5
        }
      ]
    },
    {
      "cell_type": "markdown",
      "metadata": {
        "id": "yz1urSUGW9iE"
      },
      "source": [
        "### **Q2. Qual a porcentagem de valores ausentes no *dataset*?**"
      ]
    },
    {
      "cell_type": "code",
      "metadata": {
        "id": "plk2FjbCXOqP",
        "colab": {
          "base_uri": "https://localhost:8080/"
        },
        "outputId": "55336b53-8cfa-4b2a-f4e5-2fee525acac0"
      },
      "source": [
        "# ordenar em ordem decrescente as variáveis por seus valores ausentes\n",
        "(df.isnull().sum() / df.shape[0]).sort_values(ascending=False)"
      ],
      "execution_count": null,
      "outputs": [
        {
          "output_type": "execute_result",
          "data": {
            "text/plain": [
              "reviews_per_month                 0.108133\n",
              "last_review                       0.108133\n",
              "license                           0.056439\n",
              "host_name                         0.000333\n",
              "minimum_nights                    0.000000\n",
              "number_of_reviews_ltm             0.000000\n",
              "availability_365                  0.000000\n",
              "calculated_host_listings_count    0.000000\n",
              "number_of_reviews                 0.000000\n",
              "name                              0.000000\n",
              "host_id                           0.000000\n",
              "room_type                         0.000000\n",
              "longitude                         0.000000\n",
              "latitude                          0.000000\n",
              "neighbourhood                     0.000000\n",
              "neighbourhood_group               0.000000\n",
              "price                             0.000000\n",
              "dtype: float64"
            ]
          },
          "metadata": {},
          "execution_count": 6
        }
      ]
    },
    {
      "cell_type": "markdown",
      "metadata": {
        "id": "iHXvvHIxaoNc"
      },
      "source": [
        "### **Q3. Qual o tipo de distribuição das variáveis?** "
      ]
    },
    {
      "cell_type": "code",
      "metadata": {
        "id": "q2wWSfeRbmBo",
        "colab": {
          "base_uri": "https://localhost:8080/",
          "height": 607
        },
        "outputId": "f26ecf92-d9ba-4ec6-9d7e-271c1a713a4f"
      },
      "source": [
        "# plotar o histograma das variáveis numéricas\n",
        "df.hist(bins=15, figsize=(15,10));"
      ],
      "execution_count": null,
      "outputs": [
        {
          "output_type": "display_data",
          "data": {
            "text/plain": [
              "<Figure size 1080x720 with 12 Axes>"
            ],
            "image/png": "[encoded data removed]"
          },
          "metadata": {
            "needs_background": "light"
          }
        }
      ]
    },
    {
      "cell_type": "markdown",
      "metadata": {
        "id": "7x4aw1j5wNmn"
      },
      "source": [
        "### **Q4. Qual a média dos preços de aluguel?**"
      ]
    },
    {
      "cell_type": "code",
      "metadata": {
        "id": "ff-8gUahLk-C",
        "colab": {
          "base_uri": "https://localhost:8080/"
        },
        "outputId": "de8eec37-3330-43b6-9375-8d12e2ac4b39"
      },
      "source": [
        "# ver a média da coluna `price``\n",
        "df.price.mean()\n"
      ],
      "execution_count": null,
      "outputs": [
        {
          "output_type": "execute_result",
          "data": {
            "text/plain": [
              "112.99125946890868"
            ]
          },
          "metadata": {},
          "execution_count": 11
        }
      ]
    },
    {
      "cell_type": "markdown",
      "source": [
        "## **Identificando** *outliers*"
      ],
      "metadata": {
        "id": "NHxYuac59MQ9"
      }
    },
    {
      "cell_type": "code",
      "source": [
        "# Quadro de resumo das variáveis com possíveis outliers:\n",
        "df[['price', 'minimum_nights', 'number_of_reviews',\n",
        "    'calculated_host_listings_count']].describe()"
      ],
      "metadata": {
        "colab": {
          "base_uri": "https://localhost:8080/",
          "height": 300
        },
        "id": "0p24c8st9C2p",
        "outputId": "55da5763-0002-4bee-f071-1510dd633348"
      },
      "execution_count": null,
      "outputs": [
        {
          "output_type": "execute_result",
          "data": {
            "text/plain": [
              "              price  minimum_nights  number_of_reviews  \\\n",
              "count  12013.000000    12013.000000       12013.000000   \n",
              "mean     112.991259        3.843170          51.244568   \n",
              "std     1173.910211       32.547901          80.216363   \n",
              "min        9.000000        1.000000           0.000000   \n",
              "25%       47.000000        1.000000           4.000000   \n",
              "50%       65.000000        2.000000          19.000000   \n",
              "75%       94.000000        2.000000          63.000000   \n",
              "max    89120.000000     1125.000000         818.000000   \n",
              "\n",
              "       calculated_host_listings_count  \n",
              "count                    12013.000000  \n",
              "mean                        19.907850  \n",
              "std                         44.457775  \n",
              "min                          1.000000  \n",
              "25%                          1.000000  \n",
              "50%                          4.000000  \n",
              "75%                         13.000000  \n",
              "max                        245.000000  "
            ],
            "text/html": [
              "\n",
              "  <div id=\"df-eb881df1-203a-468f-a716-46f0ccbb8a66\">\n",
              "    <div class=\"colab-df-container\">\n",
              "      <div>\n",
              "<style scoped>\n",
              "    .dataframe tbody tr th:only-of-type {\n",
              "        vertical-align: middle;\n",
              "    }\n",
              "\n",
              "    .dataframe tbody tr th {\n",
              "        vertical-align: top;\n",
              "    }\n",
              "\n",
              "    .dataframe thead th {\n",
              "        text-align: right;\n",
              "    }\n",
              "</style>\n",
              "<table border=\"1\" class=\"dataframe\">\n",
              "  <thead>\n",
              "    <tr style=\"text-align: right;\">\n",
              "      <th></th>\n",
              "      <th>price</th>\n",
              "      <th>minimum_nights</th>\n",
              "      <th>number_of_reviews</th>\n",
              "      <th>calculated_host_listings_count</th>\n",
              "    </tr>\n",
              "  </thead>\n",
              "  <tbody>\n",
              "    <tr>\n",
              "      <th>count</th>\n",
              "      <td>12013.000000</td>\n",
              "      <td>12013.000000</td>\n",
              "      <td>12013.000000</td>\n",
              "      <td>12013.000000</td>\n",
              "    </tr>\n",
              "    <tr>\n",
              "      <th>mean</th>\n",
              "      <td>112.991259</td>\n",
              "      <td>3.843170</td>\n",
              "      <td>51.244568</td>\n",
              "      <td>19.907850</td>\n",
              "    </tr>\n",
              "    <tr>\n",
              "      <th>std</th>\n",
              "      <td>1173.910211</td>\n",
              "      <td>32.547901</td>\n",
              "      <td>80.216363</td>\n",
              "      <td>44.457775</td>\n",
              "    </tr>\n",
              "    <tr>\n",
              "      <th>min</th>\n",
              "      <td>9.000000</td>\n",
              "      <td>1.000000</td>\n",
              "      <td>0.000000</td>\n",
              "      <td>1.000000</td>\n",
              "    </tr>\n",
              "    <tr>\n",
              "      <th>25%</th>\n",
              "      <td>47.000000</td>\n",
              "      <td>1.000000</td>\n",
              "      <td>4.000000</td>\n",
              "      <td>1.000000</td>\n",
              "    </tr>\n",
              "    <tr>\n",
              "      <th>50%</th>\n",
              "      <td>65.000000</td>\n",
              "      <td>2.000000</td>\n",
              "      <td>19.000000</td>\n",
              "      <td>4.000000</td>\n",
              "    </tr>\n",
              "    <tr>\n",
              "      <th>75%</th>\n",
              "      <td>94.000000</td>\n",
              "      <td>2.000000</td>\n",
              "      <td>63.000000</td>\n",
              "      <td>13.000000</td>\n",
              "    </tr>\n",
              "    <tr>\n",
              "      <th>max</th>\n",
              "      <td>89120.000000</td>\n",
              "      <td>1125.000000</td>\n",
              "      <td>818.000000</td>\n",
              "      <td>245.000000</td>\n",
              "    </tr>\n",
              "  </tbody>\n",
              "</table>\n",
              "</div>\n",
              "      <button class=\"colab-df-convert\" onclick=\"convertToInteractive('df-eb881df1-203a-468f-a716-46f0ccbb8a66')\"\n",
              "              title=\"Convert this dataframe to an interactive table.\"\n",
              "              style=\"display:none;\">\n",
              "        \n",
              "  <svg xmlns=\"http://www.w3.org/2000/svg\" height=\"24px\"viewBox=\"0 0 24 24\"\n",
              "       width=\"24px\">\n",
              "    <path d=\"M0 0h24v24H0V0z\" fill=\"none\"/>\n",
              "    <path d=\"M18.56 5.44l.94 2.06.94-2.06 2.06-.94-2.06-.94-.94-2.06-.94 2.06-2.06.94zm-11 1L8.5 8.5l.94-2.06 2.06-.94-2.06-.94L8.5 2.5l-.94 2.06-2.06.94zm10 10l.94 2.06.94-2.06 2.06-.94-2.06-.94-.94-2.06-.94 2.06-2.06.94z\"/><path d=\"M17.41 7.96l-1.37-1.37c-.4-.4-.92-.59-1.43-.59-.52 0-1.04.2-1.43.59L10.3 9.45l-7.72 7.72c-.78.78-.78 2.05 0 2.83L4 21.41c.39.39.9.59 1.41.59.51 0 1.02-.2 1.41-.59l7.78-7.78 2.81-2.81c.8-.78.8-2.07 0-2.86zM5.41 20L4 18.59l7.72-7.72 1.47 1.35L5.41 20z\"/>\n",
              "  </svg>\n",
              "      </button>\n",
              "      \n",
              "  <style>\n",
              "    .colab-df-container {\n",
              "      display:flex;\n",
              "      flex-wrap:wrap;\n",
              "      gap: 12px;\n",
              "    }\n",
              "\n",
              "    .colab-df-convert {\n",
              "      background-color: #E8F0FE;\n",
              "      border: none;\n",
              "      border-radius: 50%;\n",
              "      cursor: pointer;\n",
              "      display: none;\n",
              "      fill: #1967D2;\n",
              "      height: 32px;\n",
              "      padding: 0 0 0 0;\n",
              "      width: 32px;\n",
              "    }\n",
              "\n",
              "    .colab-df-convert:hover {\n",
              "      background-color: #E2EBFA;\n",
              "      box-shadow: 0px 1px 2px rgba(60, 64, 67, 0.3), 0px 1px 3px 1px rgba(60, 64, 67, 0.15);\n",
              "      fill: #174EA6;\n",
              "    }\n",
              "\n",
              "    [theme=dark] .colab-df-convert {\n",
              "      background-color: #3B4455;\n",
              "      fill: #D2E3FC;\n",
              "    }\n",
              "\n",
              "    [theme=dark] .colab-df-convert:hover {\n",
              "      background-color: #434B5C;\n",
              "      box-shadow: 0px 1px 3px 1px rgba(0, 0, 0, 0.15);\n",
              "      filter: drop-shadow(0px 1px 2px rgba(0, 0, 0, 0.3));\n",
              "      fill: #FFFFFF;\n",
              "    }\n",
              "  </style>\n",
              "\n",
              "      <script>\n",
              "        const buttonEl =\n",
              "          document.querySelector('#df-eb881df1-203a-468f-a716-46f0ccbb8a66 button.colab-df-convert');\n",
              "        buttonEl.style.display =\n",
              "          google.colab.kernel.accessAllowed ? 'block' : 'none';\n",
              "\n",
              "        async function convertToInteractive(key) {\n",
              "          const element = document.querySelector('#df-eb881df1-203a-468f-a716-46f0ccbb8a66');\n",
              "          const dataTable =\n",
              "            await google.colab.kernel.invokeFunction('convertToInteractive',\n",
              "                                                     [key], {});\n",
              "          if (!dataTable) return;\n",
              "\n",
              "          const docLinkHtml = 'Like what you see? Visit the ' +\n",
              "            '<a target=\"_blank\" href=https://colab.research.google.com/notebooks/data_table.ipynb>data table notebook</a>'\n",
              "            + ' to learn more about interactive tables.';\n",
              "          element.innerHTML = '';\n",
              "          dataTable['output_type'] = 'display_data';\n",
              "          await google.colab.output.renderOutput(dataTable, element);\n",
              "          const docLink = document.createElement('div');\n",
              "          docLink.innerHTML = docLinkHtml;\n",
              "          element.appendChild(docLink);\n",
              "        }\n",
              "      </script>\n",
              "    </div>\n",
              "  </div>\n",
              "  "
            ]
          },
          "metadata": {},
          "execution_count": 37
        }
      ]
    },
    {
      "cell_type": "markdown",
      "source": [
        "As variáveis acima apresentam números que indicam a provável presença de outliers. "
      ],
      "metadata": {
        "id": "TvbgPPq6DS-o"
      }
    },
    {
      "cell_type": "markdown",
      "source": [
        "## **Bloxplot para price e minimum_nights**"
      ],
      "metadata": {
        "id": "A7bcM6r1DlaW"
      }
    },
    {
      "cell_type": "code",
      "source": [
        "# price\n",
        "df.price.plot(kind='box', vert=False, figsize=(15, 3),)\n",
        "plt.show()\n",
        "\n",
        "# ver quantidade de valores acima de 1200 para price\n",
        "print(\"\\nprice: valores acima de 1200\")\n",
        "print(\"{} entradas\".format(len(df[df.price > 1200])))\n",
        "print(\"{:.4f}%\".format((len(df[df.price > 1200]) / df.shape[0])*100))\n",
        "\n"
      ],
      "metadata": {
        "colab": {
          "base_uri": "https://localhost:8080/",
          "height": 280
        },
        "id": "ro5rygZtDtDY",
        "outputId": "ac40c233-9135-4008-9917-e088e4face6e"
      },
      "execution_count": null,
      "outputs": [
        {
          "output_type": "display_data",
          "data": {
            "text/plain": [
              "<Figure size 1080x216 with 1 Axes>"
            ],
            "image/png": "[encoded data removed]"
          },
          "metadata": {
            "needs_background": "light"
          }
        },
        {
          "output_type": "stream",
          "name": "stdout",
          "text": [
            "\n",
            "price: valores acima de 1200\n",
            "36 entradas\n",
            "0.2997%\n"
          ]
        }
      ]
    },
    {
      "cell_type": "code",
      "source": [
        "# minimum_nights\n",
        "df.minimum_nights.plot(kind='box', vert=False, figsize=(15, 3))\n",
        "plt.show()\n",
        "\n",
        "# ver quantidade de valores acima de 20 dias para minimum_nights\n",
        "print(\"minimum_nights: valores acima de 20:\")\n",
        "print(\"{} entradas\".format(len(df[df.minimum_nights > 20])))\n",
        "print(\"{:.4f}%\".format((len(df[df.minimum_nights > 20]) / df.shape[0])*100))"
      ],
      "metadata": {
        "colab": {
          "base_uri": "https://localhost:8080/",
          "height": 263
        },
        "id": "Ty9PDJJcEkxW",
        "outputId": "d75d035a-c50e-474a-f4d8-f649887b0a93"
      },
      "execution_count": null,
      "outputs": [
        {
          "output_type": "display_data",
          "data": {
            "text/plain": [
              "<Figure size 1080x216 with 1 Axes>"
            ],
            "image/png": "[encoded data removed]"
          },
          "metadata": {
            "needs_background": "light"
          }
        },
        {
          "output_type": "stream",
          "name": "stdout",
          "text": [
            "minimum_nights: valores acima de 30:\n",
            "168 entradas\n",
            "1.3985%\n"
          ]
        }
      ]
    },
    {
      "cell_type": "markdown",
      "source": [
        "# Criando histograma livre de outliers"
      ],
      "metadata": {
        "id": "RSlKsp-7E59G"
      }
    },
    {
      "cell_type": "markdown",
      "metadata": {
        "id": "IXn2oIo5qx-w"
      },
      "source": [
        "### **Q4. Qual a correlação existente entre as variáveis**"
      ]
    },
    {
      "cell_type": "code",
      "source": [
        "# remover os *outliers* em um novo DataFrame\n",
        "df_clean = df.copy()\n",
        "df_clean.drop(df_clean[df_clean.price > 1200].index, axis=0, inplace=True)\n",
        "df_clean.drop(df_clean[df_clean.minimum_nights > 20].index, axis=0, inplace=True)\n",
        "df_clean.drop(df_clean[df_clean.number_of_reviews_ltm > 120].index, axis=0, inplace=True)\n",
        "df_clean.drop(df_clean[df_clean.number_of_reviews > 400].index, axis=0, inplace=True)\n",
        "\n",
        "# plotar o histograma para as variáveis numéricas\n",
        "df_clean.hist(bins=15, figsize=(15,10));"
      ],
      "metadata": {
        "colab": {
          "base_uri": "https://localhost:8080/",
          "height": 607
        },
        "id": "oi5zkxyRE_Bc",
        "outputId": "ceab246e-5398-455c-bb34-b6f3df30c970"
      },
      "execution_count": null,
      "outputs": [
        {
          "output_type": "display_data",
          "data": {
            "text/plain": [
              "<Figure size 1080x720 with 12 Axes>"
            ],
            "image/png": "[encoded data removed]"
          },
          "metadata": {
            "needs_background": "light"
          }
        }
      ]
    },
    {
      "cell_type": "code",
      "metadata": {
        "id": "x2ayzBajqxyd",
        "colab": {
          "base_uri": "https://localhost:8080/",
          "height": 238
        },
        "outputId": "728ca633-a816-4d1c-e6e2-918abed00a03"
      },
      "source": [
        "# criar uma matriz de correlação\n",
        "df_corr = df_clean[['price', 'minimum_nights', 'number_of_reviews', 'reviews_per_month',\n",
        "    'calculated_host_listings_count', 'availability_365']].corr()\n",
        "\n",
        "\n",
        "# mostrar a matriz de correlação\n",
        "display(df_corr)\n"
      ],
      "execution_count": null,
      "outputs": [
        {
          "output_type": "display_data",
          "data": {
            "text/plain": [
              "                                   price  minimum_nights  number_of_reviews  \\\n",
              "price                           1.000000        0.009616          -0.103449   \n",
              "minimum_nights                  0.009616        1.000000          -0.023207   \n",
              "number_of_reviews              -0.103449       -0.023207           1.000000   \n",
              "reviews_per_month              -0.138315       -0.152616           0.507225   \n",
              "calculated_host_listings_count  0.017048       -0.159923           0.038571   \n",
              "availability_365                0.097699       -0.155523          -0.035049   \n",
              "\n",
              "                                reviews_per_month  \\\n",
              "price                                   -0.138315   \n",
              "minimum_nights                          -0.152616   \n",
              "number_of_reviews                        0.507225   \n",
              "reviews_per_month                        1.000000   \n",
              "calculated_host_listings_count           0.070727   \n",
              "availability_365                         0.080403   \n",
              "\n",
              "                                calculated_host_listings_count  \\\n",
              "price                                                 0.017048   \n",
              "minimum_nights                                       -0.159923   \n",
              "number_of_reviews                                     0.038571   \n",
              "reviews_per_month                                     0.070727   \n",
              "calculated_host_listings_count                        1.000000   \n",
              "availability_365                                      0.141101   \n",
              "\n",
              "                                availability_365  \n",
              "price                                   0.097699  \n",
              "minimum_nights                         -0.155523  \n",
              "number_of_reviews                      -0.035049  \n",
              "reviews_per_month                       0.080403  \n",
              "calculated_host_listings_count          0.141101  \n",
              "availability_365                        1.000000  "
            ],
            "text/html": [
              "\n",
              "  <div id=\"df-62770b71-2ce3-455e-8595-c42d3c20cdec\">\n",
              "    <div class=\"colab-df-container\">\n",
              "      <div>\n",
              "<style scoped>\n",
              "    .dataframe tbody tr th:only-of-type {\n",
              "        vertical-align: middle;\n",
              "    }\n",
              "\n",
              "    .dataframe tbody tr th {\n",
              "        vertical-align: top;\n",
              "    }\n",
              "\n",
              "    .dataframe thead th {\n",
              "        text-align: right;\n",
              "    }\n",
              "</style>\n",
              "<table border=\"1\" class=\"dataframe\">\n",
              "  <thead>\n",
              "    <tr style=\"text-align: right;\">\n",
              "      <th></th>\n",
              "      <th>price</th>\n",
              "      <th>minimum_nights</th>\n",
              "      <th>number_of_reviews</th>\n",
              "      <th>reviews_per_month</th>\n",
              "      <th>calculated_host_listings_count</th>\n",
              "      <th>availability_365</th>\n",
              "    </tr>\n",
              "  </thead>\n",
              "  <tbody>\n",
              "    <tr>\n",
              "      <th>price</th>\n",
              "      <td>1.000000</td>\n",
              "      <td>0.009616</td>\n",
              "      <td>-0.103449</td>\n",
              "      <td>-0.138315</td>\n",
              "      <td>0.017048</td>\n",
              "      <td>0.097699</td>\n",
              "    </tr>\n",
              "    <tr>\n",
              "      <th>minimum_nights</th>\n",
              "      <td>0.009616</td>\n",
              "      <td>1.000000</td>\n",
              "      <td>-0.023207</td>\n",
              "      <td>-0.152616</td>\n",
              "      <td>-0.159923</td>\n",
              "      <td>-0.155523</td>\n",
              "    </tr>\n",
              "    <tr>\n",
              "      <th>number_of_reviews</th>\n",
              "      <td>-0.103449</td>\n",
              "      <td>-0.023207</td>\n",
              "      <td>1.000000</td>\n",
              "      <td>0.507225</td>\n",
              "      <td>0.038571</td>\n",
              "      <td>-0.035049</td>\n",
              "    </tr>\n",
              "    <tr>\n",
              "      <th>reviews_per_month</th>\n",
              "      <td>-0.138315</td>\n",
              "      <td>-0.152616</td>\n",
              "      <td>0.507225</td>\n",
              "      <td>1.000000</td>\n",
              "      <td>0.070727</td>\n",
              "      <td>0.080403</td>\n",
              "    </tr>\n",
              "    <tr>\n",
              "      <th>calculated_host_listings_count</th>\n",
              "      <td>0.017048</td>\n",
              "      <td>-0.159923</td>\n",
              "      <td>0.038571</td>\n",
              "      <td>0.070727</td>\n",
              "      <td>1.000000</td>\n",
              "      <td>0.141101</td>\n",
              "    </tr>\n",
              "    <tr>\n",
              "      <th>availability_365</th>\n",
              "      <td>0.097699</td>\n",
              "      <td>-0.155523</td>\n",
              "      <td>-0.035049</td>\n",
              "      <td>0.080403</td>\n",
              "      <td>0.141101</td>\n",
              "      <td>1.000000</td>\n",
              "    </tr>\n",
              "  </tbody>\n",
              "</table>\n",
              "</div>\n",
              "      <button class=\"colab-df-convert\" onclick=\"convertToInteractive('df-62770b71-2ce3-455e-8595-c42d3c20cdec')\"\n",
              "              title=\"Convert this dataframe to an interactive table.\"\n",
              "              style=\"display:none;\">\n",
              "        \n",
              "  <svg xmlns=\"http://www.w3.org/2000/svg\" height=\"24px\"viewBox=\"0 0 24 24\"\n",
              "       width=\"24px\">\n",
              "    <path d=\"M0 0h24v24H0V0z\" fill=\"none\"/>\n",
              "    <path d=\"M18.56 5.44l.94 2.06.94-2.06 2.06-.94-2.06-.94-.94-2.06-.94 2.06-2.06.94zm-11 1L8.5 8.5l.94-2.06 2.06-.94-2.06-.94L8.5 2.5l-.94 2.06-2.06.94zm10 10l.94 2.06.94-2.06 2.06-.94-2.06-.94-.94-2.06-.94 2.06-2.06.94z\"/><path d=\"M17.41 7.96l-1.37-1.37c-.4-.4-.92-.59-1.43-.59-.52 0-1.04.2-1.43.59L10.3 9.45l-7.72 7.72c-.78.78-.78 2.05 0 2.83L4 21.41c.39.39.9.59 1.41.59.51 0 1.02-.2 1.41-.59l7.78-7.78 2.81-2.81c.8-.78.8-2.07 0-2.86zM5.41 20L4 18.59l7.72-7.72 1.47 1.35L5.41 20z\"/>\n",
              "  </svg>\n",
              "      </button>\n",
              "      \n",
              "  <style>\n",
              "    .colab-df-container {\n",
              "      display:flex;\n",
              "      flex-wrap:wrap;\n",
              "      gap: 12px;\n",
              "    }\n",
              "\n",
              "    .colab-df-convert {\n",
              "      background-color: #E8F0FE;\n",
              "      border: none;\n",
              "      border-radius: 50%;\n",
              "      cursor: pointer;\n",
              "      display: none;\n",
              "      fill: #1967D2;\n",
              "      height: 32px;\n",
              "      padding: 0 0 0 0;\n",
              "      width: 32px;\n",
              "    }\n",
              "\n",
              "    .colab-df-convert:hover {\n",
              "      background-color: #E2EBFA;\n",
              "      box-shadow: 0px 1px 2px rgba(60, 64, 67, 0.3), 0px 1px 3px 1px rgba(60, 64, 67, 0.15);\n",
              "      fill: #174EA6;\n",
              "    }\n",
              "\n",
              "    [theme=dark] .colab-df-convert {\n",
              "      background-color: #3B4455;\n",
              "      fill: #D2E3FC;\n",
              "    }\n",
              "\n",
              "    [theme=dark] .colab-df-convert:hover {\n",
              "      background-color: #434B5C;\n",
              "      box-shadow: 0px 1px 3px 1px rgba(0, 0, 0, 0.15);\n",
              "      filter: drop-shadow(0px 1px 2px rgba(0, 0, 0, 0.3));\n",
              "      fill: #FFFFFF;\n",
              "    }\n",
              "  </style>\n",
              "\n",
              "      <script>\n",
              "        const buttonEl =\n",
              "          document.querySelector('#df-62770b71-2ce3-455e-8595-c42d3c20cdec button.colab-df-convert');\n",
              "        buttonEl.style.display =\n",
              "          google.colab.kernel.accessAllowed ? 'block' : 'none';\n",
              "\n",
              "        async function convertToInteractive(key) {\n",
              "          const element = document.querySelector('#df-62770b71-2ce3-455e-8595-c42d3c20cdec');\n",
              "          const dataTable =\n",
              "            await google.colab.kernel.invokeFunction('convertToInteractive',\n",
              "                                                     [key], {});\n",
              "          if (!dataTable) return;\n",
              "\n",
              "          const docLinkHtml = 'Like what you see? Visit the ' +\n",
              "            '<a target=\"_blank\" href=https://colab.research.google.com/notebooks/data_table.ipynb>data table notebook</a>'\n",
              "            + ' to learn more about interactive tables.';\n",
              "          element.innerHTML = '';\n",
              "          dataTable['output_type'] = 'display_data';\n",
              "          await google.colab.output.renderOutput(dataTable, element);\n",
              "          const docLink = document.createElement('div');\n",
              "          docLink.innerHTML = docLinkHtml;\n",
              "          element.appendChild(docLink);\n",
              "        }\n",
              "      </script>\n",
              "    </div>\n",
              "  </div>\n",
              "  "
            ]
          },
          "metadata": {}
        }
      ]
    },
    {
      "cell_type": "code",
      "metadata": {
        "id": "91UujDr6ueqE",
        "colab": {
          "base_uri": "https://localhost:8080/",
          "height": 411
        },
        "outputId": "5373f56c-cf8a-4965-97db-f80cee110120"
      },
      "source": [
        "# plotar um heatmap a partir das correlações\n",
        "sns.heatmap(df_corr, cmap='flare', fmt='.2f', square=True, linecolor='black', annot=True);"
      ],
      "execution_count": null,
      "outputs": [
        {
          "output_type": "display_data",
          "data": {
            "text/plain": [
              "<Figure size 432x288 with 2 Axes>"
            ],
            "image/png": "[encoded data removed]"
          },
          "metadata": {
            "needs_background": "light"
          }
        }
      ]
    },
    {
      "cell_type": "markdown",
      "metadata": {
        "id": "7b6RMWpuHKN-"
      },
      "source": [
        "### **Q5. Qual o tipo de imóvel mais alugado no Airbnb?**"
      ]
    },
    {
      "cell_type": "code",
      "metadata": {
        "id": "ueLPNWvPHgfB",
        "colab": {
          "base_uri": "https://localhost:8080/"
        },
        "outputId": "0aa51b82-aeeb-4542-a467-faf50230913c"
      },
      "source": [
        "# mostrar a quantidade de cada tipo de imóvel disponível\n",
        "df_clean.room_type.value_counts()"
      ],
      "execution_count": null,
      "outputs": [
        {
          "output_type": "execute_result",
          "data": {
            "text/plain": [
              "Entire home/apt    9627\n",
              "Private room       1858\n",
              "Hotel room          119\n",
              "Shared room          98\n",
              "Name: room_type, dtype: int64"
            ]
          },
          "metadata": {},
          "execution_count": 76
        }
      ]
    },
    {
      "cell_type": "code",
      "metadata": {
        "id": "EvwoO-XAHhIm",
        "colab": {
          "base_uri": "https://localhost:8080/"
        },
        "outputId": "e5e4c8ce-e70b-4b1d-838e-10bf3f3724c4"
      },
      "source": [
        "# mostrar a porcentagem de cada tipo de imóvel disponível\n",
        "df_clean.room_type.value_counts() / df_clean.shape[0]"
      ],
      "execution_count": null,
      "outputs": [
        {
          "output_type": "execute_result",
          "data": {
            "text/plain": [
              "Entire home/apt    0.822680\n",
              "Private room       0.158776\n",
              "Hotel room         0.010169\n",
              "Shared room        0.008375\n",
              "Name: room_type, dtype: float64"
            ]
          },
          "metadata": {},
          "execution_count": 77
        }
      ]
    },
    {
      "cell_type": "markdown",
      "metadata": {
        "id": "MFa5NbnLJMcd"
      },
      "source": [
        "### **Q6. Qual a localidade mais cara do dataset?**\n",
        "\n"
      ]
    },
    {
      "cell_type": "code",
      "metadata": {
        "id": "MD_xa143JZpi",
        "colab": {
          "base_uri": "https://localhost:8080/"
        },
        "outputId": "348a8e87-dff4-45e6-b5b8-143d20940b5c"
      },
      "source": [
        "# ver preços por bairros, na média\n",
        "df_clean.groupby(['neighbourhood']).price.mean().sort_values(ascending=False)[:10]"
      ],
      "execution_count": null,
      "outputs": [
        {
          "output_type": "execute_result",
          "data": {
            "text/plain": [
              "neighbourhood\n",
              "Negrelos (São Tomé)     614.00\n",
              "Gião                    381.50\n",
              "Milheirós de Poiares    334.50\n",
              "Cristelo                300.00\n",
              "Rossas                  300.00\n",
              "Paramos                 299.00\n",
              "Balazar                 291.25\n",
              "Água Longa              290.00\n",
              "Fermedo                 272.00\n",
              "São Miguel do Mato      250.00\n",
              "Name: price, dtype: float64"
            ]
          },
          "metadata": {},
          "execution_count": 78
        }
      ]
    },
    {
      "cell_type": "code",
      "metadata": {
        "id": "UxVJqJ_3W59I",
        "colab": {
          "base_uri": "https://localhost:8080/",
          "height": 469
        },
        "outputId": "fb248849-782e-4c56-8b0c-13249172dc34"
      },
      "source": [
        "# plotar os imóveis pela latitude-longitude\n",
        "df_clean.plot(kind=\"scatter\", x='longitude', y='latitude', alpha=0.4, c=df_clean['price'], s=8,\n",
        "              cmap=plt.get_cmap('jet'), figsize=(12,8));"
      ],
      "execution_count": null,
      "outputs": [
        {
          "output_type": "display_data",
          "data": {
            "text/plain": [
              "<Figure size 864x576 with 2 Axes>"
            ],
            "image/png": "[encoded data removed]"
          },
          "metadata": {
            "needs_background": "light"
          }
        }
      ]
    },
    {
      "cell_type": "markdown",
      "metadata": {
        "id": "vTneAMRUYvr1"
      },
      "source": [
        "### **Q7. Qual é a média do mínimo de noites para aluguel (minimum_nights)?**"
      ]
    },
    {
      "cell_type": "code",
      "metadata": {
        "id": "_VzNhrEgY82N",
        "colab": {
          "base_uri": "https://localhost:8080/"
        },
        "outputId": "c2ea474a-8541-4e2e-82d5-0c144352804a"
      },
      "source": [
        "# ver a média da coluna `minimum_nights``\n",
        "df_clean.minimum_nights.mean()"
      ],
      "execution_count": null,
      "outputs": [
        {
          "output_type": "execute_result",
          "data": {
            "text/plain": [
              "2.063835241839002"
            ]
          },
          "metadata": {},
          "execution_count": 81
        }
      ]
    },
    {
      "cell_type": "markdown",
      "metadata": {
        "id": "GkvAg623RjoR"
      },
      "source": [
        "## Conclusões\n"
      ]
    },
    {
      "cell_type": "markdown",
      "metadata": {
        "id": "rbZ3Hsy9Ypw8"
      },
      "source": [
        "Foi efetuada uma análise sob a base de dados do Airbnb na cidade do Porto, em Portugal. Foram descobertos alguns outliers nas variáveis de preço e mínimo de noites. Alguns bairros possuem quantidades bem diferentes de instalações disponíveis, fato este que pode ter afetado a análise, visto que certos bairros apresentam diferentes proporções."
      ]
    }
  ]
}